{
 "cells": [
  {
   "cell_type": "code",
   "execution_count": 2,
   "id": "3d4471fb",
   "metadata": {},
   "outputs": [],
   "source": [
    "import pandas as pd\n",
    "\n",
    "# Load the datasets\n",
    "customers = pd.read_csv(\"Customers.csv\")\n",
    "products = pd.read_csv(\"Products.csv\")\n",
    "transactions = pd.read_csv(\"Transactions.csv\")\n"
   ]
  },
  {
   "cell_type": "code",
   "execution_count": 3,
   "id": "f94d0f70",
   "metadata": {},
   "outputs": [
    {
     "name": "stdout",
     "output_type": "stream",
     "text": [
      "  CustomerID        CustomerName         Region  SignupDate\n",
      "0      C0001    Lawrence Carroll  South America  2022-07-10\n",
      "1      C0002      Elizabeth Lutz           Asia  2022-02-13\n",
      "2      C0003      Michael Rivera  South America  2024-03-07\n",
      "3      C0004  Kathleen Rodriguez  South America  2022-10-09\n",
      "4      C0005         Laura Weber           Asia  2022-08-15\n",
      "  ProductID              ProductName     Category   Price\n",
      "0      P001     ActiveWear Biography        Books  169.30\n",
      "1      P002    ActiveWear Smartwatch  Electronics  346.30\n",
      "2      P003  ComfortLiving Biography        Books   44.12\n",
      "3      P004            BookWorld Rug   Home Decor   95.69\n",
      "4      P005          TechPro T-Shirt     Clothing  429.31\n",
      "  TransactionID CustomerID ProductID      TransactionDate  Quantity  \\\n",
      "0        T00001      C0199      P067  2024-08-25 12:38:23         1   \n",
      "1        T00112      C0146      P067  2024-05-27 22:23:54         1   \n",
      "2        T00166      C0127      P067  2024-04-25 07:38:55         1   \n",
      "3        T00272      C0087      P067  2024-03-26 22:55:37         2   \n",
      "4        T00363      C0070      P067  2024-03-21 15:10:10         3   \n",
      "\n",
      "   TotalValue   Price  \n",
      "0      300.68  300.68  \n",
      "1      300.68  300.68  \n",
      "2      300.68  300.68  \n",
      "3      601.36  300.68  \n",
      "4      902.04  300.68  \n"
     ]
    }
   ],
   "source": [
    "# Quick look at the data\n",
    "print(customers.head())\n",
    "print(products.head())\n",
    "print(transactions.head())"
   ]
  },
  {
   "cell_type": "code",
   "execution_count": 4,
   "id": "19cde55f",
   "metadata": {},
   "outputs": [
    {
     "name": "stdout",
     "output_type": "stream",
     "text": [
      "CustomerID      0\n",
      "CustomerName    0\n",
      "Region          0\n",
      "SignupDate      0\n",
      "dtype: int64\n",
      "ProductID      0\n",
      "ProductName    0\n",
      "Category       0\n",
      "Price          0\n",
      "dtype: int64\n",
      "TransactionID      0\n",
      "CustomerID         0\n",
      "ProductID          0\n",
      "TransactionDate    0\n",
      "Quantity           0\n",
      "TotalValue         0\n",
      "Price              0\n",
      "dtype: int64\n"
     ]
    }
   ],
   "source": [
    "# Check for missing values\n",
    "print(customers.isnull().sum())\n",
    "print(products.isnull().sum())\n",
    "print(transactions.isnull().sum())\n"
   ]
  },
  {
   "cell_type": "code",
   "execution_count": 5,
   "id": "9f7b54f6",
   "metadata": {},
   "outputs": [],
   "source": [
    "# Check for duplicates and drop them\n",
    "customers.drop_duplicates(inplace=True)\n",
    "products.drop_duplicates(inplace=True)\n",
    "transactions.drop_duplicates(inplace=True)"
   ]
  },
  {
   "cell_type": "code",
   "execution_count": 6,
   "id": "6077ed87",
   "metadata": {},
   "outputs": [],
   "source": [
    "# Merge datasets\n",
    "merged_data = transactions.merge(customers, on=\"CustomerID\").merge(products, on=\"ProductID\")\n",
    "\n",
    "# Group data by customers\n",
    "customer_profile = merged_data.groupby(\"CustomerID\").agg({\n",
    "    'Region': 'first',\n",
    "    'ProductName': lambda x: list(x),\n",
    "    'Category': lambda x: list(x),\n",
    "    'TotalValue': 'sum',\n",
    "    'Quantity': 'sum'\n",
    "}).reset_index()\n",
    "\n",
    "# Encode categorical variables (if needed)\n",
    "customer_profile = pd.get_dummies(customer_profile, columns=[\"Region\"])\n"
   ]
  },
  {
   "cell_type": "code",
   "execution_count": 7,
   "id": "a76d02c2",
   "metadata": {},
   "outputs": [],
   "source": [
    "from sklearn.feature_extraction.text import CountVectorizer\n",
    "from sklearn.metrics.pairwise import cosine_similarity\n",
    "\n",
    "# Convert Product and Category preferences into a single text for simplicity\n",
    "customer_profile['Preferences'] = customer_profile['ProductName'].apply(lambda x: ' '.join(x))\n",
    "\n",
    "# Use CountVectorizer to transform text data into vectors\n",
    "vectorizer = CountVectorizer()\n",
    "preference_vectors = vectorizer.fit_transform(customer_profile['Preferences'])\n",
    "\n",
    "# Calculate cosine similarity\n",
    "similarity_matrix = cosine_similarity(preference_vectors)\n",
    "\n",
    "# Store similarity scores for each customer\n",
    "similarity_scores = {}\n",
    "for idx, customer_id in enumerate(customer_profile['CustomerID']):\n",
    "    similar_customers = list(enumerate(similarity_matrix[idx]))\n",
    "    similar_customers = sorted(similar_customers, key=lambda x: x[1], reverse=True)[1:4]  # Top 3 lookalikes\n",
    "    similarity_scores[customer_id] = [(customer_profile['CustomerID'][i], score) for i, score in similar_customers]\n"
   ]
  },
  {
   "cell_type": "code",
   "execution_count": 9,
   "id": "cdaace35",
   "metadata": {},
   "outputs": [],
   "source": [
    "import csv\n",
    "\n",
    "# Filter the first 20 customers\n",
    "first_20_customers = customer_profile[customer_profile['CustomerID'].isin([f\"C{str(i).zfill(4)}\" for i in range(1, 21)])]\n",
    "\n",
    "# Write the results to a CSV file\n",
    "with open('Lookalike.csv', mode='w', newline='') as file:\n",
    "    writer = csv.writer(file)\n",
    "    writer.writerow(['CustomerID', 'Lookalikes'])\n",
    "\n",
    "    for customer_id in first_20_customers['CustomerID']:\n",
    "        lookalikes = similarity_scores[customer_id]\n",
    "        writer.writerow([customer_id, lookalikes])\n"
   ]
  },
  {
   "cell_type": "code",
   "execution_count": null,
   "id": "045b049a",
   "metadata": {},
   "outputs": [],
   "source": []
  },
  {
   "cell_type": "code",
   "execution_count": null,
   "id": "01966af3",
   "metadata": {},
   "outputs": [],
   "source": [
    "\n"
   ]
  }
 ],
 "metadata": {
  "kernelspec": {
   "display_name": "Python 3 (ipykernel)",
   "language": "python",
   "name": "python3"
  },
  "language_info": {
   "codemirror_mode": {
    "name": "ipython",
    "version": 3
   },
   "file_extension": ".py",
   "mimetype": "text/x-python",
   "name": "python",
   "nbconvert_exporter": "python",
   "pygments_lexer": "ipython3",
   "version": "3.11.7"
  }
 },
 "nbformat": 4,
 "nbformat_minor": 5
}
